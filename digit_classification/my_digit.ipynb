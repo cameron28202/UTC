{
 "cells": [
  {
   "cell_type": "code",
   "execution_count": 31,
   "id": "440bf55a-b45c-44cd-933a-dbacd772e18f",
   "metadata": {},
   "outputs": [],
   "source": [
    "import torch\n",
    "from torchvision import datasets, transforms\n",
    "\n",
    "from torch import nn, optim\n",
    "from torch.utils.data import DataLoader, Subset\n",
    "\n",
    "from torch.quantization import QuantStub, DeQuantStub, prepare, convert, default_qconfig\n",
    "\n",
    "transform = transforms.Compose([transforms.ToTensor(),\n",
    "                                transforms.Normalize((.5,), (.5,))])\n",
    "\n",
    "trainset = datasets.MNIST('~/.pytorch/MNIST_data/', download=True, train=True, transform=transform)\n",
    "subset = list(range(5000))\n",
    "train_subset = Subset(trainset, subset)\n",
    "trainloader = torch.utils.data.DataLoader(train_subset, batch_size=64, shuffle=True)\n",
    "\n",
    "testset = datasets.MNIST('~/.pytorch/MNIST_data/', download=True, train=False, transform=transform)\n",
    "testloader = torch.utils.data.DataLoader(testset, batch_size=64, shuffle=True)"
   ]
  },
  {
   "cell_type": "code",
   "execution_count": 32,
   "id": "de111c43-99b2-4af7-b02b-f3bb961fca77",
   "metadata": {},
   "outputs": [],
   "source": [
    "class MLP(nn.Module):\n",
    "    def __init__(self):\n",
    "        super(MLP, self).__init__()\n",
    "        self.fc1 = nn.Linear(784, 512)\n",
    "        self.fc2 = nn.Linear(512, 10)\n",
    "        self.relu = nn.ReLU()\n",
    "\n",
    "    def forward(self, x):\n",
    "        x = x.view(x.size(0), -1)\n",
    "        x = self.relu(self.fc1(x))\n",
    "        x = self.fc2(x)\n",
    "        return x"
   ]
  },
  {
   "cell_type": "code",
   "execution_count": 33,
   "id": "cfaa0ef9-eac3-40b9-b490-ce29c190f1e1",
   "metadata": {},
   "outputs": [],
   "source": [
    "model = MLP()\n",
    "criterion = nn.CrossEntropyLoss()\n",
    "optimizer = optim.SGD(model.parameters(), lr = .03, momentum = .9)"
   ]
  },
  {
   "cell_type": "code",
   "execution_count": 34,
   "id": "3046fe48-140f-4d03-9810-75030981dd99",
   "metadata": {},
   "outputs": [
    {
     "name": "stdout",
     "output_type": "stream",
     "text": [
      "Epoch 1, Loss: 0.7858594897427137\n",
      "Epoch 2, Loss: 0.39676943308190454\n",
      "Epoch 3, Loss: 0.2761444578631015\n",
      "Epoch 4, Loss: 0.2099626424097562\n",
      "Epoch 5, Loss: 0.16062164268916165\n",
      "Epoch 6, Loss: 0.13405491680472711\n",
      "Epoch 7, Loss: 0.10562678094057343\n",
      "Epoch 8, Loss: 0.08960638736386466\n",
      "Epoch 9, Loss: 0.09937550712235366\n",
      "Epoch 10, Loss: 0.06388059040366471\n",
      "Epoch 11, Loss: 0.060224120446209665\n",
      "Epoch 12, Loss: 0.032757663536416015\n",
      "Epoch 13, Loss: 0.030282231255528765\n",
      "Epoch 14, Loss: 0.02202826949526096\n",
      "Epoch 15, Loss: 0.014553435276486452\n"
     ]
    }
   ],
   "source": [
    "for epoch in range(15):\n",
    "    running_loss = 0.0\n",
    "    for i, data in enumerate(trainloader, 0):\n",
    "        inputs, labels = data\n",
    "        inputs = inputs.view(inputs.shape[0], -1)\n",
    "        optimizer.zero_grad()\n",
    "    \n",
    "        outputs = model(inputs)\n",
    "        loss = criterion(outputs, labels)\n",
    "        loss.backward()\n",
    "        optimizer.step()\n",
    "    \n",
    "        running_loss += loss.item()\n",
    "    \n",
    "    print(f'Epoch {epoch + 1}, Loss: {running_loss / len(trainloader)}')\n"
   ]
  },
  {
   "cell_type": "code",
   "execution_count": 42,
   "id": "c30caa08-c2f9-4642-a892-cb28456e55cb",
   "metadata": {},
   "outputs": [],
   "source": [
    "model = MLP()\n",
    "criterion = nn.CrossEntropyLoss()\n",
    "optimizer = optim.SGD(model.parameters(), lr = .03, momentum = .9)"
   ]
  },
  {
   "cell_type": "code",
   "execution_count": 43,
   "id": "c6a6f39e-7c4e-4a51-8a5b-e31292503f43",
   "metadata": {},
   "outputs": [],
   "source": [
    "from PIL import Image\n",
    "import torchvision.transforms as transforms\n",
    "import torch\n",
    "\n",
    "# Load image from file\n",
    "image_path = 'to_classify.png'\n",
    "image = Image.open(image_path)\n",
    "\n",
    "# Transform pipeline\n",
    "transform = transforms.Compose([\n",
    "    transforms.Grayscale(),       # Convert to grayscale\n",
    "    transforms.Resize((28, 28)),  # Resize to 28x28 pixels\n",
    "    transforms.ToTensor(),        # Convert to tensor\n",
    "    transforms.Normalize((0.5,), (0.5,))  # Normalize\n",
    "])\n",
    "\n",
    "# Apply transform to the image\n",
    "input_tensor = transform(image)\n",
    "input_tensor = input_tensor.unsqueeze(0)  # Add batch dimension\n"
   ]
  },
  {
   "cell_type": "code",
   "execution_count": 44,
   "id": "74e9ef89-a88c-4bb5-ab4b-e949e363d4fb",
   "metadata": {},
   "outputs": [
    {
     "data": {
      "image/png": "[encoded data removed]",
      "text/plain": [
       "<PIL.PngImagePlugin.PngImageFile image mode=RGBA size=28x28>"
      ]
     },
     "execution_count": 44,
     "metadata": {},
     "output_type": "execute_result"
    }
   ],
   "source": [
    "image"
   ]
  },
  {
   "cell_type": "code",
   "execution_count": 45,
   "id": "150c788d-0488-4663-94b9-e3ab8043fdfc",
   "metadata": {},
   "outputs": [
    {
     "data": {
      "image/png": "[encoded data removed]",
      "text/plain": [
       "<Figure size 1000x500 with 1 Axes>"
      ]
     },
     "metadata": {},
     "output_type": "display_data"
    }
   ],
   "source": [
    "import matplotlib.pyplot as plt\n",
    "\n",
    "model.eval()\n",
    "with torch.no_grad():\n",
    "    output = model(input_tensor)\n",
    "    probabilities = torch.nn.functional.softmax(output, dim=1).squeeze()  # Apply softmax and remove extra dimensions\n",
    "    \n",
    "    # Create a bar graph\n",
    "    labels = list(range(10))  # Labels for each class (0-9)\n",
    "    plt.figure(figsize=(10, 5))\n",
    "    plt.bar(labels, probabilities.numpy(), color='blue')  # Convert probabilities to NumPy array for plotting\n",
    "    plt.xlabel('Digit Class')\n",
    "    plt.ylabel('Probability')\n",
    "    plt.title('Prediction Probabilities for Each Digit')\n",
    "    plt.xticks(labels)  # Ensure x-ticks are correctly labeled\n",
    "    plt.show()"
   ]
  },
  {
   "cell_type": "code",
   "execution_count": null,
   "id": "f74f519b-e9ce-4a94-8aff-ce5a1e3d6940",
   "metadata": {},
   "outputs": [],
   "source": []
  }
 ],
 "metadata": {
  "kernelspec": {
   "display_name": "Python 3 (ipykernel)",
   "language": "python",
   "name": "python3"
  },
  "language_info": {
   "codemirror_mode": {
    "name": "ipython",
    "version": 3
   },
   "file_extension": ".py",
   "mimetype": "text/x-python",
   "name": "python",
   "nbconvert_exporter": "python",
   "pygments_lexer": "ipython3",
   "version": "3.11.0"
  }
 },
 "nbformat": 4,
 "nbformat_minor": 5
}
