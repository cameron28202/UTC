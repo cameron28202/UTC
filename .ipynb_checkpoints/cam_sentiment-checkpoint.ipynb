{
 "cells": [
  {
   "cell_type": "code",
   "execution_count": 2,
   "id": "01af9a48-5ba1-4e62-b7a5-1e30886126cb",
   "metadata": {},
   "outputs": [],
   "source": [
    "import pandas as pd\n",
    "import torch\n",
    "import torch.nn as nn\n",
    "import torch.optim as optim\n",
    "from sklearn.model_selection import train_test_split\n",
    "from sklearn.feature_extraction.text import CountVectorizer\n",
    "from sklearn.metrics import accuracy_score\n",
    "import nltk\n",
    "from nltk.corpus import stopwords\n",
    "from nltk.tokenize import TweetTokenizer\n",
    "from nltk.stem import PorterStemmer\n",
    "import re"
   ]
  },
  {
   "cell_type": "code",
   "execution_count": 2,
   "id": "f3745a77-132e-4f90-a89d-049cafb853ee",
   "metadata": {},
   "outputs": [],
   "source": [
    "df = pd.read_csv('sentiment140.csv', encoding = 'ISO-8859-1', header = None, nrows = 500)\n",
    "df.columns = ['polarity', 'id', 'date', 'query', 'user', 'text']"
   ]
  },
  {
   "cell_type": "code",
   "execution_count": 3,
   "id": "a92249a2-5990-423d-9811-b078c2ca3b7f",
   "metadata": {},
   "outputs": [],
   "source": [
    "cols = ['id', 'date', 'query', 'user']\n",
    "df = df.drop(cols, axis = 1)"
   ]
  },
  {
   "cell_type": "code",
   "execution_count": null,
   "id": "e71575e6-1d86-49e7-8bbf-fa31f9c01add",
   "metadata": {},
   "outputs": [],
   "source": [
    "nltk.download('stopwords')\n",
    "nltk.download('punkt')\n",
    "\n",
    "tokenizer = TweetTokenizer()\n",
    "stemmer = PorterStemmer()\n",
    "stop_words = set(stopwords.words('english'))"
   ]
  },
  {
   "cell_type": "code",
   "execution_count": 5,
   "id": "4a13fdb4-4bce-483c-8c4e-140c1b80cfe9",
   "metadata": {},
   "outputs": [],
   "source": [
    "def clean_text(text):\n",
    "\n",
    "    # clean text of urls, mentions and hashtags\n",
    "    text = re.sub(r'http\\S+|www\\S+|https\\S+', '', text, flags=re.MULTILINE)\n",
    "    text = re.sub(r'@\\w+', '', text)\n",
    "    text = re.sub(r'#', '', text)\n",
    "\n",
    "    # send the text to lowercase\n",
    "    text = text.lower()\n",
    "\n",
    "    # remove punctuation\n",
    "    text = re.sub(r'[^\\w\\s]', '', text)\n",
    "\n",
    "    # tokenize text\n",
    "    tokens = tokenizer.tokenize(text)\n",
    "\n",
    "    # remove stopwords and stem words\n",
    "    processed_tokens = []\n",
    "    for token in tokens:\n",
    "        if token not in stop_words:\n",
    "            stemmed_token = stemmer.stem(token)\n",
    "            processed_tokens.append(stemmed_token)\n",
    "    tokens = processed_tokens\n",
    "\n",
    "    return \" \".join(tokens)"
   ]
  },
  {
   "cell_type": "code",
   "execution_count": 6,
   "id": "02e2ab30-b178-480b-b811-9d1aa818be4f",
   "metadata": {},
   "outputs": [],
   "source": [
    "df['cleaned_text'] = df['text'].apply(clean_text)"
   ]
  },
  {
   "cell_type": "code",
   "execution_count": 7,
   "id": "0156e330-32e1-4bed-918c-a1364e486158",
   "metadata": {},
   "outputs": [
    {
     "name": "stdout",
     "output_type": "stream",
     "text": [
      "0    @switchfoot http://twitpic.com/2y1zl - Awww, t...\n",
      "1    is upset that he can't update his Facebook by ...\n",
      "2    @Kenichan I dived many times for the ball. Man...\n",
      "3      my whole body feels itchy and like its on fire \n",
      "4    @nationwideclass no, it's not behaving at all....\n",
      "Name: text, dtype: object\n"
     ]
    }
   ],
   "source": [
    "print(df['text'].head())"
   ]
  },
  {
   "cell_type": "code",
   "execution_count": 8,
   "id": "e8814bfa-69a9-4eed-b739-7b3b195e5bd5",
   "metadata": {},
   "outputs": [
    {
     "name": "stdout",
     "output_type": "stream",
     "text": [
      "0         that bummer shoulda got david carr third day\n",
      "1    upset cant updat facebook text might cri resul...\n",
      "2      dive mani time ball manag save 50 rest go bound\n",
      "3                      whole bodi feel itchi like fire\n",
      "4                                behav im mad cant see\n",
      "Name: cleaned_text, dtype: object\n"
     ]
    }
   ],
   "source": [
    "print(df['cleaned_text'].head())"
   ]
  },
  {
   "cell_type": "code",
   "execution_count": null,
   "id": "a119d2ab-000e-4af9-8f57-6e30358d5e65",
   "metadata": {},
   "outputs": [],
   "source": [
    "class MLP(nn.Module):\n",
    "    "
   ]
  }
 ],
 "metadata": {
  "kernelspec": {
   "display_name": "Python 3 (ipykernel)",
   "language": "python",
   "name": "python3"
  },
  "language_info": {
   "codemirror_mode": {
    "name": "ipython",
    "version": 3
   },
   "file_extension": ".py",
   "mimetype": "text/x-python",
   "name": "python",
   "nbconvert_exporter": "python",
   "pygments_lexer": "ipython3",
   "version": "3.11.0"
  }
 },
 "nbformat": 4,
 "nbformat_minor": 5
}
